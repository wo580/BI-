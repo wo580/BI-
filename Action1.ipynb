{
 "cells": [
  {
   "cell_type": "markdown",
   "metadata": {},
   "source": [
    "Action1\t不用任何数学库，如何求出sqrt(10)，并且精确到小数点后10位\t\t\n",
    "\"1、完成代码，结果正确（30points）\""
   ]
  },
  {
   "cell_type": "code",
   "execution_count": 1,
   "metadata": {},
   "outputs": [
    {
     "name": "stdout",
     "output_type": "stream",
     "text": [
      "epsion:0.0000000001\n"
     ]
    }
   ],
   "source": [
    "epsion = 1e-10\n",
    "print('epsion:%.10f'%epsion)"
   ]
  },
  {
   "cell_type": "code",
   "execution_count": 2,
   "metadata": {},
   "outputs": [
    {
     "name": "stdout",
     "output_type": "stream",
     "text": [
      "3.162277660187101\n"
     ]
    }
   ],
   "source": [
    "def sqrt10():\n",
    "    low , high = 3,4\n",
    "    mid = (low+high)/2\n",
    "    \n",
    "    while high-low > epsion:\n",
    "        if mid * mid > 10:\n",
    "            high = mid\n",
    "        else:\n",
    "            low = mid\n",
    "        mid =low + (high - low)/2\n",
    "       #mid =(high + low)/2\n",
    "    return mid\n",
    "result = sqrt10()\n",
    "print(result)"
   ]
  },
  {
   "cell_type": "code",
   "execution_count": 3,
   "metadata": {},
   "outputs": [
    {
     "name": "stdout",
     "output_type": "stream",
     "text": [
      "3.1622776601683795\n"
     ]
    }
   ],
   "source": [
    "#对比计算结果\n",
    "import numpy \n",
    "print(numpy.sqrt(10))"
   ]
  },
  {
   "cell_type": "code",
   "execution_count": null,
   "metadata": {},
   "outputs": [],
   "source": []
  }
 ],
 "metadata": {
  "kernelspec": {
   "display_name": "Python 3",
   "language": "python",
   "name": "python3"
  },
  "language_info": {
   "codemirror_mode": {
    "name": "ipython",
    "version": 3
   },
   "file_extension": ".py",
   "mimetype": "text/x-python",
   "name": "python",
   "nbconvert_exporter": "python",
   "pygments_lexer": "ipython3",
   "version": "3.7.0"
  }
 },
 "nbformat": 4,
 "nbformat_minor": 2
}
