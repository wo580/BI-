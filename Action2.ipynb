{
 "cells": [
  {
   "cell_type": "markdown",
   "metadata": {},
   "source": [
    "Action2\t\"汽车投诉信息采集：\n",
    "数据源：http://www.12365auto.com/zlts/0-0-0-0-0-0_0-0-1.shtml\n",
    "投诉编号，投诉品牌，投诉车系，投诉车型，问题简述，典型问题，投诉时间，投诉状态\n",
    "可以采用Python爬虫，或者第三方可视化工具\"\t\t\t\n",
    "1、完成代码（20points）\n",
    "2、结果正确（20points）"
   ]
  },
  {
   "cell_type": "code",
   "execution_count": null,
   "metadata": {},
   "outputs": [],
   "source": [
    "# 使用request + BeautifulSoup提取12365auto投诉信息\n",
    "import requests\n",
    "from bs4 import BeautifulSoup\n",
    "import pandas as pd\n",
    "import os    #获取当前工作路径"
   ]
  },
  {
   "cell_type": "code",
   "execution_count": null,
   "metadata": {},
   "outputs": [],
   "source": [
    "#请求URL\n",
    "#request_url = 'http://www.12365auto.com/zlts/0-0-0-0-0-0_0-0-1.shtml'\n",
    "# 根据request_url得到soup\n",
    "def get_page_content(request_url):\n",
    "    # 得到页面的内容\n",
    "    headers={'user-agent': 'Mozilla/5.0 (Windows NT 10.0; WOW64) AppleWebKit/537.36 (KHTML, like Gecko) Chrome/74.0.3729.131 Safari/537.36'}\n",
    "    html=requests.get(request_url,headers=headers,timeout=10)\n",
    "    content = html.text\n",
    "     # 通过content创建BeautifulSoup对象\n",
    "    soup = BeautifulSoup(content, 'html.parser', from_encoding='utf-8')\n",
    "    return soup"
   ]
  },
  {
   "cell_type": "code",
   "execution_count": null,
   "metadata": {},
   "outputs": [],
   "source": [
    "#通过BS对象来提取当前页面的内容（方法一）\n",
    "def analysis(soup):\n",
    "    #找出投诉框\n",
    "    temp=soup.find('div',class_='tslb_b')\n",
    "    #投诉编号\t投诉品牌\t投诉车系\t投诉车型\t问题简述\t典型问题\t投诉时间\t投诉状态\n",
    "    df=pd.DataFrame(columns=['id_','brand','car_model','type_','desc','problem','datetime','status'])#定义一个空的df\n",
    "    tr_list=temp.find_all('tr')\n",
    "    for tr in tr_list:\n",
    "        td_list=tr.find_all('td')\n",
    "        df_tr=pd.DataFrame()\n",
    "        if len(td_list)>0:\n",
    "            df_tr = df_tr.assign(\n",
    "                id_=[td_list[0].text],\n",
    "                brand=[td_list[1].text],\n",
    "                car_model=[td_list[2].text],\n",
    "                type_=[td_list[3].text],\n",
    "                desc=[td_list[4].text],\n",
    "                problem=[td_list[5].text],\n",
    "                datetime=[td_list[6].text],\n",
    "                status =[td_list[7].text]\n",
    "            )\n",
    "            df=pd.concat([df,df_tr],axis=0,ignore_index=True)\n",
    "    return df \n",
    "\n",
    "request_url = 'http://www.12365auto.com/zlts/0-0-0-0-0-0_0-0-1.shtml'\n",
    "bs = get_page_content(request_url)\n",
    "df =analysis(bs) \n",
    "print(df)"
   ]
  },
  {
   "cell_type": "code",
   "execution_count": 14,
   "metadata": {},
   "outputs": [
    {
     "name": "stdout",
     "output_type": "stream",
     "text": [
      "        id    brand   car_model                           type  \\\n",
      "0   515601     东风启辰       启辰T60    2018款 1.6L CVT 智悦版(ISS) 国VI   \n",
      "1   515594    长安马自达   马自达3 昂克赛拉              2020款 1.5L 自动 质美版   \n",
      "2   515592    一汽-大众          探岳          2020款 330TSI 两驱 豪华智联版   \n",
      "3   515589  一汽-大众奥迪       奥迪A4L          2018款 2.0T 时尚型 30周年年型   \n",
      "4   515577     吉利汽车          缤瑞              2018款 14T CVT 缤纷版   \n",
      "5   515559    一汽-大众         高尔夫             2014款 1.6L  手动 时尚型   \n",
      "6   515543     北京现代          名图          2017款 1.6T 自动 智能型 GLS   \n",
      "7   515538     众泰汽车        云100                 2014款 云100 舒适型   \n",
      "8   515537     东风日产          逍客             2016款 2.0L CVT 精英版   \n",
      "9   515535     上汽大众          朗逸           2013款 1.6L 自动 舒适版 改款   \n",
      "10  515534     广汽丰田         凯美瑞              2018款 2.5G 自动 豪华版   \n",
      "11  515533   东风悦达起亚        起亚K2           2017款 1.4L 自动 GLS 三厢   \n",
      "12  515532     一汽丰田      RAV4荣放           2015款 2.0L CVT 两驱都市版   \n",
      "13  515525    一汽-大众    C-TREK蔚领              2018款 1.5L 自动 舒适型   \n",
      "14  515523     长安跨越       跨越者D5  2019款 1.8L PLUS标准型 排半后双轮 标准货箱   \n",
      "15  515521     东风日产     骐达TIIDA             2021款 1.6L CVT 智行版   \n",
      "16  515520    广汽乘用车       传祺GA4              2018款 150N 自动 豪华版   \n",
      "17  515518     东风裕隆      优6 SUV               2016款 1.8T 时尚升级型   \n",
      "18  515517     华晨宝马        宝马3系     2020款 330Li xDrive M运动曜夜套装   \n",
      "19  515516     北京现代          悦动        2018款 1.6L 自动 悦目版 GL 国V   \n",
      "20  515508     东风启辰       启辰D60     2019款 1.6L XL CVT 智联精英版 国V   \n",
      "21  515507     长城汽车  哈弗H6 Coupe            2016款 1.5T 手动 两驱精英型   \n",
      "22  515506    一汽-大众          速腾           2015款 280TSI  自动 旗舰型   \n",
      "23  515505    一汽-大众          速腾            2018款 280TSI DSG熠动版   \n",
      "24  515503     广汽本田          飞度           2014款 1.5L CVT LX舒适型   \n",
      "25  515499   东风悦达起亚          智跑              2018款 2.0L 手动 时尚版   \n",
      "26  515498    广汽乘用车       传祺GM8             2020款 领航款 390T 尊享版   \n",
      "27  515494     一汽丰田         卡罗拉       2019款 1.2T S-CVT GL-i精英版   \n",
      "28  515493    东风雪铁龙      雪铁龙C4L            2013款 1.6THP 自动 劲智版   \n",
      "29  515491     广汽本田          飞度          2004款 两厢飞度 1.5 AT CVT   \n",
      "\n",
      "                     desc                        problem    datetime status  \n",
      "0     启辰T60多次电瓶亏电无法启动希望处理                          H146,  2020-08-29   信息审核  \n",
      "1     长安马自达昂克赛拉发动机变速箱漏油\\t                   A12,B22,E43,  2020-08-29   信息审核  \n",
      "2      一汽大众探岳油泵异响希望尽快得到处理                           H78,  2020-08-29   信息审核  \n",
      "3      一汽大众奥迪A4L中控屏背面漆面起泡                           H81,  2020-08-29   信息审核  \n",
      "4     吉利缤瑞仪表台异响 承诺洗车服务未兑现                      H93,L314,  2020-08-29   信息审核  \n",
      "5        一汽大众高尔夫车内异味越来越严重                          H185,  2020-08-29   信息审核  \n",
      "6    北京现代名图行驶中方向跑偏四轮定位未解决                          G117,  2020-08-29   信息审核  \n",
      "7      众泰云100动力电池故障要求尽快解决                          H343,  2020-08-29   信息审核  \n",
      "8       东风日产逍客变速箱阀体损坏不予更换                       B96,B84,  2020-08-29   信息审核  \n",
      "9      上汽大众朗逸发动机水泵处漏油要求解决                           A12,  2020-08-29   信息审核  \n",
      "10     广汽丰田凯美瑞发动机漏防冻液要求解决                           A37,  2020-08-29   信息审核  \n",
      "11     起亚K2发动机加速异响4S店无法解决                  A9,J298,J301,  2020-08-29   信息审核  \n",
      "12     一汽丰田RAV4荣放打方向卡顿有异响                      D59,D123,  2020-08-29   信息审核  \n",
      "13       一汽大众蔚领冷车启动发动机有异响                            A9,  2020-08-29   信息审核  \n",
      "14   长安跨越者D5倒车镜松动变速箱挂挡不顺畅           B184,D156,H168,H211,  2020-08-29   信息审核  \n",
      "15       东风日产骐达电瓶亏电要求尽快解决                     H146,H170,  2020-08-29   信息审核  \n",
      "16    广汽传祺GA4变速箱漏油4S店不给解决                 B22,I295,I294,  2020-08-29   信息审核  \n",
      "17   纳智捷优6 SUV转向轴再次漏油要求处理                      G51,N317,  2020-08-29   信息审核  \n",
      "18     华晨宝马3系新车提车时前杠有剐蹭痕迹                     I295,K307,  2020-08-29   信息审核  \n",
      "19      北京现代悦动发动机无法识别启动信号                          B184,  2020-08-29   信息审核  \n",
      "20    启辰D60底盘零件大面积生锈望厂家解决                      H79,I297,  2020-08-29   信息审核  \n",
      "21  哈弗H6 Coupe发动机异响 仪表台开裂  A9,G56,H79,H176,H72,H90,I297,  2020-08-29   信息审核  \n",
      "22   一汽大众速腾ABS传感器故障导致故障灯亮                           E74,  2020-08-29   信息审核  \n",
      "23    一汽大众速腾韩泰轮胎有开裂希望厂家处理                          F100,  2020-08-29   信息审核  \n",
      "24      广汽本田飞度冷车启动发动机严重异响                            A9,  2020-08-29   信息审核  \n",
      "25   起亚智跑变速箱无法挂入倒挡4S店无法解决                B184,I295,J298,  2020-08-29   信息审核  \n",
      "26  广汽传祺GM8车门异响4S店多次维修未解决                      H72,J298,  2020-08-29   信息审核  \n",
      "27   一汽丰田卡罗拉仪表转速指针不动查不出原因                     H202,J301,  2020-08-29   信息审核  \n",
      "28    东风雪铁龙C4L发动机烧机油望厂家处理                           A63,  2020-08-29   信息审核  \n",
      "29    广汽本田飞度转向卡滞变速箱顿挫要求解决                 B19,D123,D156,  2020-08-29   信息审核  \n"
     ]
    },
    {
     "name": "stderr",
     "output_type": "stream",
     "text": [
      "C:\\ProgramData\\Anaconda3\\lib\\site-packages\\bs4\\__init__.py:179: UserWarning: You provided Unicode markup but also provided a value for from_encoding. Your from_encoding will be ignored.\n",
      "  warnings.warn(\"You provided Unicode markup but also provided a value for from_encoding. Your from_encoding will be ignored.\")\n"
     ]
    }
   ],
   "source": [
    "#通过BS对象来提取当前页面的内容（方法二）\n",
    "def analysis(soup):\n",
    "    #找出投诉框\n",
    "    temp=soup.find('div',class_='tslb_b')\n",
    "    #投诉编号\t投诉品牌\t投诉车系\t投诉车型\t问题简述\t典型问题\t投诉时间\t投诉状态\n",
    "    df=pd.DataFrame(columns=['id','brand','car_model','type','desc','problem','datetime','status'])#定义一个空的df\n",
    "    tr_list=temp.find_all('tr')\n",
    "    for tr in tr_list:\n",
    "        temp={}\n",
    "        td_list=tr.find_all('td')\n",
    "        #第一个TR没有td,其余八个都有\n",
    "        #for td in td_list:\n",
    "        if len(td_list) > 0:\n",
    "            id,brand,car_model,type,desc,problem,datetime,status = \\\n",
    "            td_list[0].text,td_list[1].text,td_list[2].text,td_list[3].text,td_list[4].text, \\\n",
    "            td_list[5].text,td_list[6].text,td_list[7].text\n",
    "                \n",
    "            temp['id'],temp['brand'],temp['car_model'],temp['type'],temp['desc'],temp['problem'], \\\n",
    "            temp['datetime'],temp['status'] = \\\n",
    "            id,brand,car_model,type,desc,problem,datetime,status\n",
    "                \n",
    "            df = df.append(temp, ignore_index=True)\n",
    "    return df \n",
    "\n",
    "request_url = 'http://www.12365auto.com/zlts/0-0-0-0-0-0_0-0-1.shtml'\n",
    "bs = get_page_content(request_url)\n",
    "df =analysis(bs) \n",
    "print(df)"
   ]
  },
  {
   "cell_type": "code",
   "execution_count": null,
   "metadata": {},
   "outputs": [],
   "source": [
    "page_num = 20\n",
    "base_url = 'http://www.12365auto.com/zlts/0-0-0-0-0-0_0-0-0-0-0-0-0-'\n",
    "\n",
    "result = pd.DataFrame(columns = ['id', 'brand', 'car_model', 'type', 'desc', 'problem', 'datetime', 'status'])\n",
    "for i in range(page_num):\n",
    "    request_url = base_url+str(i+1)+'.shtml'\n",
    "    soup = get_page_content(request_url)\n",
    "    print(request_url)\n",
    "    df = analysis(soup)\n",
    "    print(df)\n",
    "    result = result.append(df)\n",
    "result.to_csv(r'C:\\Users\\Administrator\\BI\\calss1-2\\car_complain.csv', index=False,encoding=\"utf_8_sig\") #数据写入，index=False表示不加索引"
   ]
  },
  {
   "cell_type": "code",
   "execution_count": null,
   "metadata": {},
   "outputs": [],
   "source": []
  }
 ],
 "metadata": {
  "kernelspec": {
   "display_name": "Python 3",
   "language": "python",
   "name": "python3"
  },
  "language_info": {
   "codemirror_mode": {
    "name": "ipython",
    "version": 3
   },
   "file_extension": ".py",
   "mimetype": "text/x-python",
   "name": "python",
   "nbconvert_exporter": "python",
   "pygments_lexer": "ipython3",
   "version": "3.7.0"
  }
 },
 "nbformat": 4,
 "nbformat_minor": 2
}
