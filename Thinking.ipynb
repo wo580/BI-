{
 "cells": [
  {
   "cell_type": "markdown",
   "metadata": {},
   "source": [
    "Thinking1:\n",
    "当我们思考数据源的时候，都有哪些维度，如果你想要使用爬虫抓取数据，都有哪些工具\t\t\t\n",
    "简要说明数据源的维度，常用的爬虫工具(10points)"
   ]
  },
  {
   "cell_type": "markdown",
   "metadata": {},
   "source": [
    "维度：公开数据源（政府企业高校），爬虫（可视化工具、Python代码），传感器，日志采集（前端埋点/后端脚本）\n",
    "爬虫工具：八爪鱼，神箭手云爬虫，搜集客\n"
   ]
  },
  {
   "cell_type": "markdown",
   "metadata": {},
   "source": [
    "Thinking2:\n",
    "企业的数据源来自多个维度，请思考什么是企业的数据中台，你是如何理解一方数据，二方数据，三方数据？\n",
    "能有自己的见解（20points）"
   ]
  },
  {
   "cell_type": "markdown",
   "metadata": {},
   "source": [
    "数据中台是指通过数据技术，对三方数据进行采集、计算、存储、加工，同时统一标准和口径。数据中台把数据统一之后，会形成标准数据，再进行存储，形成大数据资产层，进而为客户提供高效服务，也可以用于企业内部运营和数据挖掘。\n",
    "三方数据：\n",
    "一方数据是企业自己收集的信息；\n",
    "二方数据是自己没有收集的第一方数据，它来自于您自己的受众之外的数据源，如网站分析、舆情等；\n",
    "三方数据从第三方数据供应商获取的数据，如数据平台，运营商等。"
   ]
  }
 ],
 "metadata": {
  "kernelspec": {
   "display_name": "Python 3",
   "language": "python",
   "name": "python3"
  },
  "language_info": {
   "codemirror_mode": {
    "name": "ipython",
    "version": 3
   },
   "file_extension": ".py",
   "mimetype": "text/x-python",
   "name": "python",
   "nbconvert_exporter": "python",
   "pygments_lexer": "ipython3",
   "version": "3.7.0"
  }
 },
 "nbformat": 4,
 "nbformat_minor": 2
}
