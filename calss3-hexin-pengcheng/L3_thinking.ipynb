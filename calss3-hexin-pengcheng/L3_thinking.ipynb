{
 "cells": [
  {
   "cell_type": "markdown",
   "metadata": {},
   "source": [
    "Thinking1\t什么是监督学习，无监督学习，半监督学习\t\t\t\n",
    "能简要说出三种学习方法的含义（10points）\n",
    "\n",
    "监督学习：训练集的每一个数据已经有特征和标签，即有输入数据和输出数据，通过学习训练集中输入数据和输出数据的关系，生成合适的函数将输入映射到输出。比如分类、回归。\n",
    "无监督学习：训练集的每一个数据都只有特征，即只有输入数据，算法需要学习训练集中的特征关系，进行建模，试图使类内差距最小、类间差距最大。比如聚类。\n",
    "半监督学习：训练集中一部分数据有特征和标签，另一部分只有特征，综合两类数据来生成合适的函数。\n"
   ]
  },
  {
   "cell_type": "markdown",
   "metadata": {},
   "source": [
    "Thinking2\tK-means中的k值如何选取\t\t\t\n",
    "能简要说出K值如何选取的方法（10points）\n",
    "\n",
    "手肘法\n",
    "手肘法的核心指标是SSE(sum of the squared errors，误差平方和)，\n",
    "随着聚类数k的增大，样本划分会更加精细，每个簇的聚合程度会逐渐提高，那么误差平方和SSE自然会逐渐变小。并且，当k小于真实聚类数时，由于k的增大会大幅增加每个簇的聚合程度，故SSE的下降幅度会很大，而当k到达真实聚类数时，再增加k所得到的聚合程度回报会迅速变小，所以SSE的下降幅度会骤减，然后随着k值的继续增大而趋于平缓，也就是说SSE和k的关系图是一个手肘的形状，而这个肘部对应的k值就是数据的真实聚类数。\n"
   ]
  },
  {
   "cell_type": "markdown",
   "metadata": {},
   "source": [
    "Thinking3\t随机森林采用了bagging集成学习，bagging指的是什么\t\t\t\n",
    "能简要说出自己的观点（10points）\n",
    " \n",
    "随机有放回的算法，将若干个弱分类器的分类结果进行投票选择，从而组成一个强分类器。\n",
    "\n"
   ]
  },
  {
   "cell_type": "markdown",
   "metadata": {},
   "source": [
    "Thinking4\t主动学习和半监督学习的区别是什么\t\t\n",
    "能理解两者之间的区别（10points）\n",
    "\n",
    "主动学习，在利用未标注数据的时候，是从未标注数据中找到最容易判断错误的样例来交由专家进行标注，这个过程是一个筛选差数据的过程，也是一个互动交互的过程，引入了额外的专家的知识。\n",
    "半监督学习是学习算法不需要人工干预，基于自身对未标记数据加以利用，来提高学习模型的泛化性能。\n"
   ]
  }
 ],
 "metadata": {
  "kernelspec": {
   "display_name": "Python 3",
   "language": "python",
   "name": "python3"
  },
  "language_info": {
   "codemirror_mode": {
    "name": "ipython",
    "version": 3
   },
   "file_extension": ".py",
   "mimetype": "text/x-python",
   "name": "python",
   "nbconvert_exporter": "python",
   "pygments_lexer": "ipython3",
   "version": "3.7.0"
  }
 },
 "nbformat": 4,
 "nbformat_minor": 2
}
