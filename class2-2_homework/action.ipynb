{
 "cells": [
  {
   "cell_type": "markdown",
   "metadata": {},
   "source": [
    "Action1\t\"购物篮词云分析\n",
    "数据集：MarketBasket\n",
    "下载地址：https://www.kaggle.com/dragonheir/basket-optimisation\n",
    "对数据集进行词云可视化展示，可视化探索（Top10的商品有哪些）\"\t\t\n",
    "1、完成可视化的呈现（30points）\n",
    "2、能分析出TOP10商品并进行可视化呈现（30points）"
   ]
  },
  {
   "cell_type": "code",
   "execution_count": null,
   "metadata": {},
   "outputs": [],
   "source": [
    "from wordcloud import WordCloud\n",
    "import pandas as pd\n",
    "import matplotlib.pyplot as plt\n",
    "from PIL import Image\n",
    "import numpy as np\n",
    "from lxml import etree\n",
    "from nltk.tokenize import word_tokenize"
   ]
  },
  {
   "cell_type": "code",
   "execution_count": null,
   "metadata": {},
   "outputs": [],
   "source": [
    "# # 去掉停用词\n",
    "# def remove_stop_words(f):\n",
    "# \tstop_words = ['Movie']\n",
    "# \tfor stop_word in stop_words:\n",
    "# \t\tf = f.replace(stop_word, '')\n",
    "# \treturn f"
   ]
  },
  {
   "cell_type": "code",
   "execution_count": null,
   "metadata": {},
   "outputs": [],
   "source": [
    "# 生成词云\n",
    "def create_word_cloud(f):\n",
    "\tprint('根据词频，开始生成词云!')\n",
    "\t#f = remove_stop_words(f)\n",
    "\tcut_text = word_tokenize(f)\n",
    "\t#print(cut_text)\n",
    "\tcut_text = \" \".join(cut_text)\n",
    "\twc = WordCloud(\n",
    "\t\tmax_words=100,\n",
    "\t\twidth=2000,\n",
    "\t\theight=1200,\n",
    "    )\n",
    "\twordcloud = wc.generate(cut_text)\n",
    "\t# 写词云图片\n",
    "\twordcloud.to_file(\"wordcloud.jpg\")\n",
    "\t# 显示词云文件\n",
    "\tplt.imshow(wordcloud)\n",
    "\tplt.axis(\"off\")\n",
    "\tplt.show()"
   ]
  },
  {
   "cell_type": "code",
   "execution_count": null,
   "metadata": {},
   "outputs": [],
   "source": [
    "# 数据加载\n",
    "data = pd.read_csv('./Market_Basket_Optimisation.csv',header=None)\n",
    "#将数据存放在Transactions中\n",
    "transactions=[]\n",
    "#存储key：value\n",
    "item_count ={}\n",
    "for i in range(0,data.shape[0]):\n",
    "    temp=[]\n",
    "    for j in range(0,data.shape[1]):\n",
    "        item = str(data.values[i,j])\n",
    "        if item!='nan':\n",
    "            temp.append(item)\n",
    "            if item not in item_count:\n",
    "                item_count[item] = 1\n",
    "            else:\n",
    "                item_count[item] += 1\n",
    "    transactions.append(temp)"
   ]
  },
  {
   "cell_type": "code",
   "execution_count": null,
   "metadata": {},
   "outputs": [],
   "source": [
    "#print(transactions)"
   ]
  },
  {
   "cell_type": "code",
   "execution_count": null,
   "metadata": {},
   "outputs": [],
   "source": [
    "# 生成词云\n",
    "all_words = ''.join('%s' %item for item in transactions)\n",
    "create_word_cloud(all_words)"
   ]
  },
  {
   "cell_type": "code",
   "execution_count": null,
   "metadata": {},
   "outputs": [],
   "source": [
    "#倒序输出TOP10\n",
    "#print(sorted(item_count.items(),key=lambda x:x[1], reverse=True))"
   ]
  },
  {
   "cell_type": "code",
   "execution_count": null,
   "metadata": {},
   "outputs": [],
   "source": [
    "li =  sorted(item_count.items(),key=lambda x:x[1], reverse=True)\n",
    "li2= li[0:10]\n",
    "print(li2)\n",
    "#print(dict(li2))"
   ]
  },
  {
   "cell_type": "code",
   "execution_count": null,
   "metadata": {},
   "outputs": [],
   "source": [
    "x_x = []\n",
    "y_y = []\n",
    "for i in li2:\n",
    "    x_x.append(i[0])\n",
    "    y_y.append(i[1])\n",
    "x = x_x\n",
    "y = y_y\n",
    "print(li2)\n",
    "print(x)\n",
    "print(y)"
   ]
  },
  {
   "cell_type": "code",
   "execution_count": null,
   "metadata": {},
   "outputs": [],
   "source": [
    "fig, ax = plt.subplots()#新建画布\n",
    "ax.barh(x, y, color=\"deepskyblue\")#画条型图\n",
    "\n",
    "labels = ax.get_xticklabels()\n",
    "plt.setp(labels, rotation=0, horizontalalignment='right')\n",
    "ax.legend([\"label\"])#标签\n",
    "\n",
    "#在条形图上显示数值\n",
    "for a, b in zip(x, y):\n",
    "    plt.text(b+1, a, b, ha='center', va='center')\n",
    "\n",
    "plt.rcParams['font.sans-serif'] = ['SimHei']  # 用来正常显示中文标签\n",
    "plt.title(\"Title\",fontsize=20,color='green') \n",
    "plt.xlabel(\"数量\",fontsize=20,color='green') \n",
    "plt.ylabel(\"类别\",fontsize=20,color='green') \n",
    "\n",
    "# plt.rcParams['savefig.dpi'] = 300  # 图片像素\n",
    "# plt.rcParams['figure.dpi'] = 300  # 分辨率\n",
    "# plt.rcParams['figure.figsize'] = (15.0, 8.0)  # 尺寸\n",
    "#plt.savefig('.\\result.png')\n",
    "\n",
    "plt.show()"
   ]
  },
  {
   "cell_type": "markdown",
   "metadata": {},
   "source": [
    "笔记：\n",
    "数据可视化呈现的最基础图形就是：柱状图、水平条形图、折线图等等；　　\n",
    "在python的matplotlib库中分别可用bar、barh、plot函数来构建它们，再使用xticks与yticks（设置坐标轴刻度）、\n",
    "xlabel与ylabel（设置坐标轴标签）、title（标题）、legend（图例）、xlim与ylim（设置坐标轴数据范围）、\n",
    "grid（设置网格线）等命令来装饰图形"
   ]
  }
 ],
 "metadata": {
  "kernelspec": {
   "display_name": "Python 3",
   "language": "python",
   "name": "python3"
  },
  "language_info": {
   "codemirror_mode": {
    "name": "ipython",
    "version": 3
   },
   "file_extension": ".py",
   "mimetype": "text/x-python",
   "name": "python",
   "nbconvert_exporter": "python",
   "pygments_lexer": "ipython3",
   "version": "3.7.0"
  }
 },
 "nbformat": 4,
 "nbformat_minor": 2
}
