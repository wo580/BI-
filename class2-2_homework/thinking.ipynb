{
 "cells": [
  {
   "cell_type": "markdown",
   "metadata": {},
   "source": [
    "Thinking1\tMVC框架指的是什么\t\t\t\n",
    "能简要说出MVC框架的内容（20points）"
   ]
  },
  {
   "cell_type": "markdown",
   "metadata": {},
   "source": [
    "Model View Controller\n",
    "Model：数据模型，与数据库相关的模型层；\n",
    "View：显示，对数据进行显示，网页的地址，以及渲染网页等；\n",
    "Controller：控制器，对数据库的各种操作进行控制，访问网页地址后，读取页面数据，调用业务逻辑；\n",
    "首先控制器接收用户的请求，并决定应该调用哪个模型来进行处理，然后模型用业务逻辑来处理用户的请求并返回数据，最后控制器用相应的视图格式化模型返回的数据，并通过表示层呈现给用户。 "
   ]
  },
  {
   "cell_type": "markdown",
   "metadata": {},
   "source": [
    "Thinking2\t基于Python的可视化技术都有哪些，你使用过哪些\t\t\n",
    "分享自己使用过的工具（20points）"
   ]
  },
  {
   "cell_type": "markdown",
   "metadata": {},
   "source": [
    "Matplotlib；Seaborn；pyecharts；echarts；HTML/Javascript\n",
    "使用过Matplotlib，用于爬取猫眼TOP100电影后进行数据可视化分析。"
   ]
  }
 ],
 "metadata": {
  "kernelspec": {
   "display_name": "Python 3",
   "language": "python",
   "name": "python3"
  },
  "language_info": {
   "codemirror_mode": {
    "name": "ipython",
    "version": 3
   },
   "file_extension": ".py",
   "mimetype": "text/x-python",
   "name": "python",
   "nbconvert_exporter": "python",
   "pygments_lexer": "ipython3",
   "version": "3.7.0"
  }
 },
 "nbformat": 4,
 "nbformat_minor": 2
}
